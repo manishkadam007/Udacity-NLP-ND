{
 "cells": [
  {
   "cell_type": "markdown",
   "metadata": {},
   "source": [
    "# Text Processing\n",
    "\n",
    "## Capturing Text Data\n",
    "\n",
    "### Plain Text"
   ]
  },
  {
   "cell_type": "code",
   "execution_count": 1,
   "metadata": {},
   "outputs": [
    {
     "name": "stdout",
     "output_type": "stream",
     "text": [
      "Hieroglyphic writing dates from c. 3000 BC, and is composed of hundreds of symbols. A hieroglyph can represent a word, a sound, or a silent determinative; and the same symbol can serve different purposes in different contexts. Hieroglyphs were a formal script, used on stone monuments and in tombs, that could be as detailed as individual works of art.\n",
      "\n"
     ]
    }
   ],
   "source": [
    "import os\n",
    "\n",
    "# Read in a plain text file\n",
    "with open(os.path.join(\"data\", \"hieroglyph.txt\"), \"r\") as f:\n",
    "    text = f.read()\n",
    "    print(text)"
   ]
  },
  {
   "cell_type": "markdown",
   "metadata": {},
   "source": [
    "### Tabular Data"
   ]
  },
  {
   "cell_type": "code",
   "execution_count": 2,
   "metadata": {
    "scrolled": true
   },
   "outputs": [
    {
     "data": {
      "text/html": [
       "<div>\n",
       "<style scoped>\n",
       "    .dataframe tbody tr th:only-of-type {\n",
       "        vertical-align: middle;\n",
       "    }\n",
       "\n",
       "    .dataframe tbody tr th {\n",
       "        vertical-align: top;\n",
       "    }\n",
       "\n",
       "    .dataframe thead th {\n",
       "        text-align: right;\n",
       "    }\n",
       "</style>\n",
       "<table border=\"1\" class=\"dataframe\">\n",
       "  <thead>\n",
       "    <tr style=\"text-align: right;\">\n",
       "      <th></th>\n",
       "      <th>publisher</th>\n",
       "      <th>title</th>\n",
       "    </tr>\n",
       "  </thead>\n",
       "  <tbody>\n",
       "    <tr>\n",
       "      <th>0</th>\n",
       "      <td>Livemint</td>\n",
       "      <td>fed's charles plosser sees high bar for change...</td>\n",
       "    </tr>\n",
       "    <tr>\n",
       "      <th>1</th>\n",
       "      <td>IFA Magazine</td>\n",
       "      <td>us open: stocks fall after fed official hints ...</td>\n",
       "    </tr>\n",
       "    <tr>\n",
       "      <th>2</th>\n",
       "      <td>IFA Magazine</td>\n",
       "      <td>fed risks falling 'behind the curve', charles ...</td>\n",
       "    </tr>\n",
       "    <tr>\n",
       "      <th>3</th>\n",
       "      <td>Moneynews</td>\n",
       "      <td>fed's plosser: nasty weather has curbed job gr...</td>\n",
       "    </tr>\n",
       "    <tr>\n",
       "      <th>4</th>\n",
       "      <td>NASDAQ</td>\n",
       "      <td>plosser: fed may have to accelerate tapering pace</td>\n",
       "    </tr>\n",
       "  </tbody>\n",
       "</table>\n",
       "</div>"
      ],
      "text/plain": [
       "      publisher                                              title\n",
       "0      Livemint  fed's charles plosser sees high bar for change...\n",
       "1  IFA Magazine  us open: stocks fall after fed official hints ...\n",
       "2  IFA Magazine  fed risks falling 'behind the curve', charles ...\n",
       "3     Moneynews  fed's plosser: nasty weather has curbed job gr...\n",
       "4        NASDAQ  plosser: fed may have to accelerate tapering pace"
      ]
     },
     "execution_count": 2,
     "metadata": {},
     "output_type": "execute_result"
    }
   ],
   "source": [
    "import pandas as pd\n",
    "\n",
    "# Extract text column from a dataframe\n",
    "df = pd.read_csv(os.path.join(\"data\", \"news.csv\"))\n",
    "df.head()[['publisher', 'title']]\n",
    "\n",
    "# Convert text column to lowercase\n",
    "df['title'] = df['title'].str.lower()\n",
    "df.head()[['publisher', 'title']]"
   ]
  },
  {
   "cell_type": "markdown",
   "metadata": {},
   "source": [
    "### Online Resource"
   ]
  },
  {
   "cell_type": "code",
   "execution_count": 3,
   "metadata": {
    "scrolled": true
   },
   "outputs": [
    {
     "name": "stdout",
     "output_type": "stream",
     "text": [
      "{\n",
      "    \"success\": {\n",
      "        \"total\": 1\n",
      "    },\n",
      "    \"contents\": {\n",
      "        \"quotes\": [\n",
      "            {\n",
      "                \"quote\": \"Do not wait to strike till the iron is hot; but make it hot by striking....\",\n",
      "                \"length\": \"75\",\n",
      "                \"author\": \"William B. Sprague\",\n",
      "                \"tags\": [\n",
      "                    \"action\",\n",
      "                    \"inspire\"\n",
      "                ],\n",
      "                \"category\": \"inspire\",\n",
      "                \"language\": \"en\",\n",
      "                \"date\": \"2020-07-04\",\n",
      "                \"permalink\": \"https://theysaidso.com/quote/william-b-sprague-do-not-wait-to-strike-till-the-iron-is-hot-but-make-it-hot-by\",\n",
      "                \"id\": \"UNe_Znlalg5mFEBaAWzoCweF\",\n",
      "                \"background\": \"https://theysaidso.com/img/qod/qod-inspire.jpg\",\n",
      "                \"title\": \"Inspiring Quote of the day\"\n",
      "            }\n",
      "        ]\n",
      "    },\n",
      "    \"baseurl\": \"https://theysaidso.com\",\n",
      "    \"copyright\": {\n",
      "        \"year\": 2022,\n",
      "        \"url\": \"https://theysaidso.com\"\n",
      "    }\n",
      "}\n",
      "Do not wait to strike till the iron is hot; but make it hot by striking.... \n",
      "-- William B. Sprague\n"
     ]
    }
   ],
   "source": [
    "import requests\n",
    "import json\n",
    "\n",
    "# Fetch data from a REST API\n",
    "r = requests.get(\n",
    "    \"https://quotes.rest/qod.json\")\n",
    "res = r.json()\n",
    "print(json.dumps(res, indent=4))\n",
    "\n",
    "# Extract relevant object and field\n",
    "q = res[\"contents\"][\"quotes\"][0]\n",
    "print(q[\"quote\"], \"\\n--\", q[\"author\"])"
   ]
  },
  {
   "cell_type": "markdown",
   "metadata": {},
   "source": [
    "## Cleaning"
   ]
  },
  {
   "cell_type": "code",
   "execution_count": 4,
   "metadata": {
    "scrolled": true
   },
   "outputs": [
    {
     "name": "stdout",
     "output_type": "stream",
     "text": [
      "<html lang=\"en\" op=\"news\"><head><meta name=\"referrer\" content=\"origin\"><meta name=\"viewport\" content=\"width=device-width, initial-scale=1.0\"><link rel=\"stylesheet\" type=\"text/css\" href=\"news.css?OfhGWVnZXe6MY48FefEz\">\n",
      "        <link rel=\"shortcut icon\" href=\"favicon.ico\">\n",
      "          <link rel=\"alternate\" type=\"application/rss+xml\" title=\"RSS\" href=\"rss\">\n",
      "        <title>Hacker News</title></head><body><center><table id=\"hnmain\" border=\"0\" cellpadding=\"0\" cellspacing=\"0\" width=\"85%\" bgcolor=\"#f6f6ef\">\n",
      "        <tr><td bgcolor=\"#ff6600\"><table border=\"0\" cellpadding=\"0\" cellspacing=\"0\" width=\"100%\" style=\"padding:2px\"><tr><td style=\"width:18px;padding-right:4px\"><a href=\"https://news.ycombinator.com\"><img src=\"y18.gif\" width=\"18\" height=\"18\" style=\"border:1px white solid;\"></a></td>\n",
      "                  <td style=\"line-height:12pt; height:10px;\"><span class=\"pagetop\"><b class=\"hnname\"><a href=\"news\">Hacker News</a></b>\n",
      "              <a href=\"newest\">new</a> | <a href=\"front\">past</a> | <a href=\"newcomments\">comments</a> | <a href=\"ask\">ask</a> | <a href=\"show\">show</a> | <a href=\"jobs\">jobs</a> | <a href=\"submit\">submit</a>            </span></td><td style=\"text-align:right;padding-right:4px;\"><span class=\"pagetop\">\n",
      "                              <a href=\"login?goto=news\">login</a>\n",
      "                          </span></td>\n",
      "              </tr></table></td></tr>\n",
      "<tr id=\"pagespace\" title=\"\" style=\"height:10px\"></tr><tr><td><table border=\"0\" cellpadding=\"0\" cellspacing=\"0\" class=\"itemlist\">\n",
      "              <tr class='athing' id='23729160'>\n",
      "      <td align=\"right\" valign=\"top\" class=\"title\"><span class=\"rank\">1.</span></td>      <td valign=\"top\" class=\"votelinks\"><center><a id='up_23729160' href='vote?id=23729160&amp;how=up&amp;goto=news'><div class='votearrow' title='upvote'></div></a></center></td><td class=\"title\"><a href=\"https://theinternetbytes.com/2020/07/03/where-am-i/\" class=\"storylink\">Where Am I? NYTimes or Google?</a><span class=\"sitebit comhead\"> (<a href=\"from?site=theinternetbytes.com\"><span class=\"sitestr\">theinternetbytes.com</span></a>)</span></td></tr><tr><td colspan=\"2\"></td><td class=\"subtext\">\n",
      "        <span class=\"score\" id=\"score_23729160\">753 points</span> by <a href=\"user?id=rwoll\" class=\"hnuser\">rwoll</a> <span class=\"age\"><a href=\"item?id=23729160\">11 hours ago</a></span> <span id=\"unv_23729160\"></span> | <a href=\"hide?id=23729160&amp;goto=news\">hide</a> | <a href=\"item?id=23729160\">221&nbsp;comments</a>              </td></tr>\n",
      "      <tr class=\"spacer\" style=\"height:5px\"></tr>\n",
      "                <tr class='athing' id='23730408'>\n",
      "      <td align=\"right\" valign=\"top\" class=\"title\"><span class=\"rank\">2.</span></td>      <td valign=\"top\" class=\"votelinks\"><center><a id='up_23730408' href='vote?id=23730408&amp;how=up&amp;goto=news'><div class='votearrow' title='upvote'></div></a></center></td><td class=\"title\"><a href=\"https://toffelblog.xyz/blog/gemini-overview/\" class=\"storylink\">A look at the Gemini protocol: a brutally simple alternative to the web</a><span class=\"sitebit comhead\"> (<a href=\"from?site=toffelblog.xyz\"><span class=\"sitestr\">toffelblog.xyz</span></a>)</span></td></tr><tr><td colspan=\"2\"></td><td class=\"subtext\">\n",
      "        <span class=\"score\" id=\"score_23730408\">153 points</span> by <a href=\"user?id=flatlanderwoman\" class=\"hnuser\">flatlanderwoman</a> <span class=\"age\"><a href=\"item?id=23730408\">6 hours ago</a></span> <span id=\"unv_23730408\"></span> | <a href=\"hide?id=23730408&amp;goto=news\">hide</a> | <a href=\"item?id=23730408\">109&nbsp;comments</a>              </td></tr>\n",
      "      <tr class=\"spacer\" style=\"height:5px\"></tr>\n",
      "                <tr class='athing' id='23730884'>\n",
      "      <td align=\"right\" valign=\"top\" class=\"title\"><span class=\"rank\">3.</span></td>      <td valign=\"top\" class=\"votelinks\"><center><a id='up_23730884' href='vote?id=23730884&amp;how=up&amp;goto=news'><div class='votearrow' title='upvote'></div></a></center></td><td class=\"title\"><a href=\"https://nationalpost.com/news/world/a-canadian-scuba-diver-in-mexico-accidentally-discovers-a-vast-prehistoric-industrial-complex\" class=\"storylink\">Scuba diver accidentally discovers prehistoric industrial complex in Mexico</a><span class=\"sitebit comhead\"> (<a href=\"from?site=nationalpost.com\"><span class=\"sitestr\">nationalpost.com</span></a>)</span></td></tr><tr><td colspan=\"2\"></td><td class=\"subtext\">\n",
      "        <span class=\"score\" id=\"score_23730884\">37 points</span> by <a href=\"user?id=aritraghosh007\" class=\"hnuser\">aritraghosh007</a> <span class=\"age\"><a href=\"item?id=23730884\">4 hours ago</a></span> <span id=\"unv_23730884\"></span> | <a href=\"hide?id=23730884&amp;goto=news\">hide</a> | <a href=\"item?id=23730884\">4&nbsp;comments</a>              </td></tr>\n",
      "      <tr class=\"spacer\" style=\"height:5px\"></tr>\n",
      "                <tr class='athing' id='23731310'>\n",
      "      <td align=\"right\" valign=\"top\" class=\"title\"><span class=\"rank\">4.</span></td>      <td valign=\"top\" class=\"votelinks\"><center><a id='up_23731310' href='vote?id=23731310&amp;how=up&amp;goto=news'><div class='votearrow' title='upvote'></div></a></center></td><td class=\"title\"><a href=\"https://nvd.nist.gov/vuln/detail/CVE-2020-14002\" class=\"storylink\">PuTTY: Observable Discrepancy leading to a leak in the algorithm negotiation</a><span class=\"sitebit comhead\"> (<a href=\"from?site=nist.gov\"><span class=\"sitestr\">nist.gov</span></a>)</span></td></tr><tr><td colspan=\"2\"></td><td class=\"subtext\">\n",
      "        <span class=\"score\" id=\"score_23731310\">13 points</span> by <a href=\"user?id=based2\" class=\"hnuser\">based2</a> <span class=\"age\"><a href=\"item?id=23731310\">2 hours ago</a></span> <span id=\"unv_23731310\"></span> | <a href=\"hide?id=23731310&amp;goto=news\">hide</a> | <a href=\"item?id=23731310\">3&nbsp;comments</a>              </td></tr>\n",
      "      <tr class=\"spacer\" style=\"height:5px\"></tr>\n",
      "                <tr class='athing' id='23731351'>\n",
      "      <td align=\"right\" valign=\"top\" class=\"title\"><span class=\"rank\">5.</span></td>      <td valign=\"top\" class=\"votelinks\"><center><a id='up_23731351' href='vote?id=23731351&amp;how=up&amp;goto=news'><div class='votearrow' title='upvote'></div></a></center></td><td class=\"title\"><a href=\"https://smallstep.com/blog/ssh-emergency-access/\" class=\"storylink\">SSH Emergency Access</a><span class=\"sitebit comhead\"> (<a href=\"from?site=smallstep.com\"><span class=\"sitestr\">smallstep.com</span></a>)</span></td></tr><tr><td colspan=\"2\"></td><td class=\"subtext\">\n",
      "        <span class=\"score\" id=\"score_23731351\">12 points</span> by <a href=\"user?id=based2\" class=\"hnuser\">based2</a> <span class=\"age\"><a href=\"item?id=23731351\">1 hour ago</a></span> <span id=\"unv_23731351\"></span> | <a href=\"hide?id=23731351&amp;goto=news\">hide</a> | <a href=\"item?id=23731351\">3&nbsp;comments</a>              </td></tr>\n",
      "      <tr class=\"spacer\" style=\"height:5px\"></tr>\n",
      "                <tr class='athing' id='23725921'>\n",
      "      <td align=\"right\" valign=\"top\" class=\"title\"><span class=\"rank\">6.</span></td>      <td valign=\"top\" class=\"votelinks\"><center><a id='up_23725921' href='vote?id=23725921&amp;how=up&amp;goto=news'><div class='votearrow' title='upvote'></div></a></center></td><td class=\"title\"><a href=\"https://blog.janestreet.com/really-low-latency-multipliers-and-cryptographic-puzzles/\" class=\"storylink\">Low latency multipliers and cryptographic puzzles</a><span class=\"sitebit comhead\"> (<a href=\"from?site=janestreet.com\"><span class=\"sitestr\">janestreet.com</span></a>)</span></td></tr><tr><td colspan=\"2\"></td><td class=\"subtext\">\n",
      "        <span class=\"score\" id=\"score_23725921\">13 points</span> by <a href=\"user?id=jsnell\" class=\"hnuser\">jsnell</a> <span class=\"age\"><a href=\"item?id=23725921\">2 hours ago</a></span> <span id=\"unv_23725921\"></span> | <a href=\"hide?id=23725921&amp;goto=news\">hide</a> | <a href=\"item?id=23725921\">discuss</a>              </td></tr>\n",
      "      <tr class=\"spacer\" style=\"height:5px\"></tr>\n",
      "                <tr class='athing' id='23722275'>\n",
      "      <td align=\"right\" valign=\"top\" class=\"title\"><span class=\"rank\">7.</span></td>      <td valign=\"top\" class=\"votelinks\"><center><a id='up_23722275' href='vote?id=23722275&amp;how=up&amp;goto=news'><div class='votearrow' title='upvote'></div></a></center></td><td class=\"title\"><a href=\"https://rreusser.github.io/explorations/sphere-eversion/\" class=\"storylink\">Sphere Eversion</a><span class=\"sitebit comhead\"> (<a href=\"from?site=rreusser.github.io\"><span class=\"sitestr\">rreusser.github.io</span></a>)</span></td></tr><tr><td colspan=\"2\"></td><td class=\"subtext\">\n",
      "        <span class=\"score\" id=\"score_23722275\">122 points</span> by <a href=\"user?id=colinprince\" class=\"hnuser\">colinprince</a> <span class=\"age\"><a href=\"item?id=23722275\">9 hours ago</a></span> <span id=\"unv_23722275\"></span> | <a href=\"hide?id=23722275&amp;goto=news\">hide</a> | <a href=\"item?id=23722275\">25&nbsp;comments</a>              </td></tr>\n",
      "      <tr class=\"spacer\" style=\"height:5px\"></tr>\n",
      "                <tr class='athing' id='23731414'>\n",
      "      <td align=\"right\" valign=\"top\" class=\"title\"><span class=\"rank\">8.</span></td>      <td valign=\"top\" class=\"votelinks\"><center><a id='up_23731414' href='vote?id=23731414&amp;how=up&amp;goto=news'><div class='votearrow' title='upvote'></div></a></center></td><td class=\"title\"><a href=\"https://www.japantimes.co.jp/news/2020/06/25/national/yamato-japan-ban-phones-walking/\" class=\"storylink\">Yamato becomes Japan's first city to 'ban' use of phones while walking</a><span class=\"sitebit comhead\"> (<a href=\"from?site=japantimes.co.jp\"><span class=\"sitestr\">japantimes.co.jp</span></a>)</span></td></tr><tr><td colspan=\"2\"></td><td class=\"subtext\">\n",
      "        <span class=\"score\" id=\"score_23731414\">26 points</span> by <a href=\"user?id=chewz\" class=\"hnuser\">chewz</a> <span class=\"age\"><a href=\"item?id=23731414\">1 hour ago</a></span> <span id=\"unv_23731414\"></span> | <a href=\"hide?id=23731414&amp;goto=news\">hide</a> | <a href=\"item?id=23731414\">13&nbsp;comments</a>              </td></tr>\n",
      "      <tr class=\"spacer\" style=\"height:5px\"></tr>\n",
      "                <tr class='athing' id='23727749'>\n",
      "      <td align=\"right\" valign=\"top\" class=\"title\"><span class=\"rank\">9.</span></td>      <td valign=\"top\" class=\"votelinks\"><center><a id='up_23727749' href='vote?id=23727749&amp;how=up&amp;goto=news'><div class='votearrow' title='upvote'></div></a></center></td><td class=\"title\"><a href=\"https://www.efavdb.com/quinoa%20packing\" class=\"storylink\">2+1=4, by quinoa</a><span class=\"sitebit comhead\"> (<a href=\"from?site=efavdb.com\"><span class=\"sitestr\">efavdb.com</span></a>)</span></td></tr><tr><td colspan=\"2\"></td><td class=\"subtext\">\n",
      "        <span class=\"score\" id=\"score_23727749\">301 points</span> by <a href=\"user?id=efavdb\" class=\"hnuser\">efavdb</a> <span class=\"age\"><a href=\"item?id=23727749\">14 hours ago</a></span> <span id=\"unv_23727749\"></span> | <a href=\"hide?id=23727749&amp;goto=news\">hide</a> | <a href=\"item?id=23727749\">127&nbsp;comments</a>              </td></tr>\n",
      "      <tr class=\"spacer\" style=\"height:5px\"></tr>\n",
      "                <tr class='athing' id='23727470'>\n",
      "      <td align=\"right\" valign=\"top\" class=\"title\"><span class=\"rank\">10.</span></td>      <td valign=\"top\" class=\"votelinks\"><center><a id='up_23727470' href='vote?id=23727470&amp;how=up&amp;goto=news'><div class='votearrow' title='upvote'></div></a></center></td><td class=\"title\"><a href=\"http://photorequestsfromsolitary.org/\" class=\"storylink\">Photo Requests from Solitary</a><span class=\"sitebit comhead\"> (<a href=\"from?site=photorequestsfromsolitary.org\"><span class=\"sitestr\">photorequestsfromsolitary.org</span></a>)</span></td></tr><tr><td colspan=\"2\"></td><td class=\"subtext\">\n",
      "        <span class=\"score\" id=\"score_23727470\">47 points</span> by <a href=\"user?id=chaosmachine\" class=\"hnuser\">chaosmachine</a> <span class=\"age\"><a href=\"item?id=23727470\">5 hours ago</a></span> <span id=\"unv_23727470\"></span> | <a href=\"hide?id=23727470&amp;goto=news\">hide</a> | <a href=\"item?id=23727470\">21&nbsp;comments</a>              </td></tr>\n",
      "      <tr class=\"spacer\" style=\"height:5px\"></tr>\n",
      "                <tr class='athing' id='23728228'>\n",
      "      <td align=\"right\" valign=\"top\" class=\"title\"><span class=\"rank\">11.</span></td>      <td valign=\"top\" class=\"votelinks\"><center><a id='up_23728228' href='vote?id=23728228&amp;how=up&amp;goto=news'><div class='votearrow' title='upvote'></div></a></center></td><td class=\"title\"><a href=\"https://monokh.com/posts/bitcoin-from-scratch-part-1\" class=\"storylink\">Bitcoin From Scratch – Part 1</a><span class=\"sitebit comhead\"> (<a href=\"from?site=monokh.com\"><span class=\"sitestr\">monokh.com</span></a>)</span></td></tr><tr><td colspan=\"2\"></td><td class=\"subtext\">\n",
      "        <span class=\"score\" id=\"score_23728228\">208 points</span> by <a href=\"user?id=monokh\" class=\"hnuser\">monokh</a> <span class=\"age\"><a href=\"item?id=23728228\">13 hours ago</a></span> <span id=\"unv_23728228\"></span> | <a href=\"hide?id=23728228&amp;goto=news\">hide</a> | <a href=\"item?id=23728228\">53&nbsp;comments</a>              </td></tr>\n",
      "      <tr class=\"spacer\" style=\"height:5px\"></tr>\n",
      "                <tr class='athing' id='23731360'>\n",
      "      <td align=\"right\" valign=\"top\" class=\"title\"><span class=\"rank\">12.</span></td>      <td valign=\"top\" class=\"votelinks\"><center><a id='up_23731360' href='vote?id=23731360&amp;how=up&amp;goto=news'><div class='votearrow' title='upvote'></div></a></center></td><td class=\"title\"><a href=\"https://github.com/lesovsky/noisia\" class=\"storylink\" rel=\"nofollow\">Harmful Workload Generator for PostgreSQL</a><span class=\"sitebit comhead\"> (<a href=\"from?site=github.com\"><span class=\"sitestr\">github.com</span></a>)</span></td></tr><tr><td colspan=\"2\"></td><td class=\"subtext\">\n",
      "        <span class=\"score\" id=\"score_23731360\">8 points</span> by <a href=\"user?id=tirumaraiselvan\" class=\"hnuser\">tirumaraiselvan</a> <span class=\"age\"><a href=\"item?id=23731360\">1 hour ago</a></span> <span id=\"unv_23731360\"></span> | <a href=\"hide?id=23731360&amp;goto=news\">hide</a> | <a href=\"item?id=23731360\">discuss</a>              </td></tr>\n",
      "      <tr class=\"spacer\" style=\"height:5px\"></tr>\n",
      "                <tr class='athing' id='23729265'>\n",
      "      <td align=\"right\" valign=\"top\" class=\"title\"><span class=\"rank\">13.</span></td>      <td valign=\"top\" class=\"votelinks\"><center><a id='up_23729265' href='vote?id=23729265&amp;how=up&amp;goto=news'><div class='votearrow' title='upvote'></div></a></center></td><td class=\"title\"><a href=\"https://theconversation.com/the-invention-of-satanic-witchcraft-by-medieval-authorities-was-initially-met-with-skepticism-140809\" class=\"storylink\">Invention of satanic witchcraft by medieval authorities was met with skepticism</a><span class=\"sitebit comhead\"> (<a href=\"from?site=theconversation.com\"><span class=\"sitestr\">theconversation.com</span></a>)</span></td></tr><tr><td colspan=\"2\"></td><td class=\"subtext\">\n",
      "        <span class=\"score\" id=\"score_23729265\">112 points</span> by <a href=\"user?id=Thevet\" class=\"hnuser\">Thevet</a> <span class=\"age\"><a href=\"item?id=23729265\">10 hours ago</a></span> <span id=\"unv_23729265\"></span> | <a href=\"hide?id=23729265&amp;goto=news\">hide</a> | <a href=\"item?id=23729265\">90&nbsp;comments</a>              </td></tr>\n",
      "      <tr class=\"spacer\" style=\"height:5px\"></tr>\n",
      "                <tr class='athing' id='23711859'>\n",
      "      <td align=\"right\" valign=\"top\" class=\"title\"><span class=\"rank\">14.</span></td>      <td valign=\"top\" class=\"votelinks\"><center><a id='up_23711859' href='vote?id=23711859&amp;how=up&amp;goto=news'><div class='votearrow' title='upvote'></div></a></center></td><td class=\"title\"><a href=\"https://blogs.microsoft.com/on-the-issues/2020/06/24/differential-privacy-harvard-opendp/\" class=\"storylink\">Differential privacy tools from MS Research and Harvard</a><span class=\"sitebit comhead\"> (<a href=\"from?site=microsoft.com\"><span class=\"sitestr\">microsoft.com</span></a>)</span></td></tr><tr><td colspan=\"2\"></td><td class=\"subtext\">\n",
      "        <span class=\"score\" id=\"score_23711859\">60 points</span> by <a href=\"user?id=op03\" class=\"hnuser\">op03</a> <span class=\"age\"><a href=\"item?id=23711859\">9 hours ago</a></span> <span id=\"unv_23711859\"></span> | <a href=\"hide?id=23711859&amp;goto=news\">hide</a> | <a href=\"item?id=23711859\">4&nbsp;comments</a>              </td></tr>\n",
      "      <tr class=\"spacer\" style=\"height:5px\"></tr>\n",
      "                <tr class='athing' id='23729062'>\n",
      "      <td align=\"right\" valign=\"top\" class=\"title\"><span class=\"rank\">15.</span></td>      <td valign=\"top\" class=\"votelinks\"><center><a id='up_23729062' href='vote?id=23729062&amp;how=up&amp;goto=news'><div class='votearrow' title='upvote'></div></a></center></td><td class=\"title\"><a href=\"https://www.caltech.edu/about/news/black-hole-collision-may-have-exploded-light\" class=\"storylink\">LIGO Black hole merger may have optical confirmation</a><span class=\"sitebit comhead\"> (<a href=\"from?site=caltech.edu\"><span class=\"sitestr\">caltech.edu</span></a>)</span></td></tr><tr><td colspan=\"2\"></td><td class=\"subtext\">\n",
      "        <span class=\"score\" id=\"score_23729062\">72 points</span> by <a href=\"user?id=throwaway2048\" class=\"hnuser\">throwaway2048</a> <span class=\"age\"><a href=\"item?id=23729062\">11 hours ago</a></span> <span id=\"unv_23729062\"></span> | <a href=\"hide?id=23729062&amp;goto=news\">hide</a> | <a href=\"item?id=23729062\">7&nbsp;comments</a>              </td></tr>\n",
      "      <tr class=\"spacer\" style=\"height:5px\"></tr>\n",
      "                <tr class='athing' id='23730107'>\n",
      "      <td align=\"right\" valign=\"top\" class=\"title\"><span class=\"rank\">16.</span></td>      <td valign=\"top\" class=\"votelinks\"><center><a id='up_23730107' href='vote?id=23730107&amp;how=up&amp;goto=news'><div class='votearrow' title='upvote'></div></a></center></td><td class=\"title\"><a href=\"http://metamodular.com/closos.pdf\" class=\"storylink\">Closos: Specification of a Lisp operating system (2013) [pdf]</a><span class=\"sitebit comhead\"> (<a href=\"from?site=metamodular.com\"><span class=\"sitestr\">metamodular.com</span></a>)</span></td></tr><tr><td colspan=\"2\"></td><td class=\"subtext\">\n",
      "        <span class=\"score\" id=\"score_23730107\">43 points</span> by <a href=\"user?id=ska80\" class=\"hnuser\">ska80</a> <span class=\"age\"><a href=\"item?id=23730107\">7 hours ago</a></span> <span id=\"unv_23730107\"></span> | <a href=\"hide?id=23730107&amp;goto=news\">hide</a> | <a href=\"item?id=23730107\">7&nbsp;comments</a>              </td></tr>\n",
      "      <tr class=\"spacer\" style=\"height:5px\"></tr>\n",
      "                <tr class='athing' id='23729197'>\n",
      "      <td align=\"right\" valign=\"top\" class=\"title\"><span class=\"rank\">17.</span></td>      <td valign=\"top\" class=\"votelinks\"><center><a id='up_23729197' href='vote?id=23729197&amp;how=up&amp;goto=news'><div class='votearrow' title='upvote'></div></a></center></td><td class=\"title\"><a href=\"https://www.theguardian.com/world/2020/jul/03/dr-cronk-drink-canada-brewery\" class=\"storylink\">Cronk: Long-lost beverage resurrected after 120 years</a><span class=\"sitebit comhead\"> (<a href=\"from?site=theguardian.com\"><span class=\"sitestr\">theguardian.com</span></a>)</span></td></tr><tr><td colspan=\"2\"></td><td class=\"subtext\">\n",
      "        <span class=\"score\" id=\"score_23729197\">73 points</span> by <a href=\"user?id=pseudolus\" class=\"hnuser\">pseudolus</a> <span class=\"age\"><a href=\"item?id=23729197\">10 hours ago</a></span> <span id=\"unv_23729197\"></span> | <a href=\"hide?id=23729197&amp;goto=news\">hide</a> | <a href=\"item?id=23729197\">16&nbsp;comments</a>              </td></tr>\n",
      "      <tr class=\"spacer\" style=\"height:5px\"></tr>\n",
      "                <tr class='athing' id='23712006'>\n",
      "      <td align=\"right\" valign=\"top\" class=\"title\"><span class=\"rank\">18.</span></td>      <td valign=\"top\" class=\"votelinks\"><center><a id='up_23712006' href='vote?id=23712006&amp;how=up&amp;goto=news'><div class='votearrow' title='upvote'></div></a></center></td><td class=\"title\"><a href=\"item?id=23712006\" class=\"storylink\">Ask HN: Good Resources on Voice Encryption?</a></td></tr><tr><td colspan=\"2\"></td><td class=\"subtext\">\n",
      "        <span class=\"score\" id=\"score_23712006\">22 points</span> by <a href=\"user?id=quotz\" class=\"hnuser\">quotz</a> <span class=\"age\"><a href=\"item?id=23712006\">5 hours ago</a></span> <span id=\"unv_23712006\"></span> | <a href=\"hide?id=23712006&amp;goto=news\">hide</a> | <a href=\"item?id=23712006\">21&nbsp;comments</a>              </td></tr>\n",
      "      <tr class=\"spacer\" style=\"height:5px\"></tr>\n",
      "                <tr class='athing' id='23727955'>\n",
      "      <td align=\"right\" valign=\"top\" class=\"title\"><span class=\"rank\">19.</span></td>      <td valign=\"top\" class=\"votelinks\"><center><a id='up_23727955' href='vote?id=23727955&amp;how=up&amp;goto=news'><div class='votearrow' title='upvote'></div></a></center></td><td class=\"title\"><a href=\"https://warontherocks.com/2020/07/thrones-wreathed-in-shadow-tacitus-and-the-psychology-of-authoritarianism/\" class=\"storylink\">Thrones Wreathed in Shadow: Tacitus and the psychology of authoritarianism</a><span class=\"sitebit comhead\"> (<a href=\"from?site=warontherocks.com\"><span class=\"sitestr\">warontherocks.com</span></a>)</span></td></tr><tr><td colspan=\"2\"></td><td class=\"subtext\">\n",
      "        <span class=\"score\" id=\"score_23727955\">45 points</span> by <a href=\"user?id=hoffmanesque\" class=\"hnuser\">hoffmanesque</a> <span class=\"age\"><a href=\"item?id=23727955\">7 hours ago</a></span> <span id=\"unv_23727955\"></span> | <a href=\"hide?id=23727955&amp;goto=news\">hide</a> | <a href=\"item?id=23727955\">7&nbsp;comments</a>              </td></tr>\n",
      "      <tr class=\"spacer\" style=\"height:5px\"></tr>\n",
      "                <tr class='athing' id='23729072'>\n",
      "      <td align=\"right\" valign=\"top\" class=\"title\"><span class=\"rank\">20.</span></td>      <td valign=\"top\" class=\"votelinks\"><center><a id='up_23729072' href='vote?id=23729072&amp;how=up&amp;goto=news'><div class='votearrow' title='upvote'></div></a></center></td><td class=\"title\"><a href=\"https://theojulienne.io/2020/07/03/scaling-linux-services-before-accepting-connections.html\" class=\"storylink\">Scaling Linux Services: Before accepting connections</a><span class=\"sitebit comhead\"> (<a href=\"from?site=theojulienne.io\"><span class=\"sitestr\">theojulienne.io</span></a>)</span></td></tr><tr><td colspan=\"2\"></td><td class=\"subtext\">\n",
      "        <span class=\"score\" id=\"score_23729072\">123 points</span> by <a href=\"user?id=theojulienne\" class=\"hnuser\">theojulienne</a> <span class=\"age\"><a href=\"item?id=23729072\">11 hours ago</a></span> <span id=\"unv_23729072\"></span> | <a href=\"hide?id=23729072&amp;goto=news\">hide</a> | <a href=\"item?id=23729072\">17&nbsp;comments</a>              </td></tr>\n",
      "      <tr class=\"spacer\" style=\"height:5px\"></tr>\n",
      "                <tr class='athing' id='23728025'>\n",
      "      <td align=\"right\" valign=\"top\" class=\"title\"><span class=\"rank\">21.</span></td>      <td valign=\"top\" class=\"votelinks\"><center><a id='up_23728025' href='vote?id=23728025&amp;how=up&amp;goto=news'><div class='votearrow' title='upvote'></div></a></center></td><td class=\"title\"><a href=\"https://www.newyorker.com/culture/cultural-comment/the-walkman-forty-years-on\" class=\"storylink\">The Walkman, Forty Years On</a><span class=\"sitebit comhead\"> (<a href=\"from?site=newyorker.com\"><span class=\"sitestr\">newyorker.com</span></a>)</span></td></tr><tr><td colspan=\"2\"></td><td class=\"subtext\">\n",
      "        <span class=\"score\" id=\"score_23728025\">142 points</span> by <a href=\"user?id=kwindla\" class=\"hnuser\">kwindla</a> <span class=\"age\"><a href=\"item?id=23728025\">14 hours ago</a></span> <span id=\"unv_23728025\"></span> | <a href=\"hide?id=23728025&amp;goto=news\">hide</a> | <a href=\"item?id=23728025\">114&nbsp;comments</a>              </td></tr>\n",
      "      <tr class=\"spacer\" style=\"height:5px\"></tr>\n",
      "                <tr class='athing' id='23728212'>\n",
      "      <td align=\"right\" valign=\"top\" class=\"title\"><span class=\"rank\">22.</span></td>      <td valign=\"top\" class=\"votelinks\"><center><a id='up_23728212' href='vote?id=23728212&amp;how=up&amp;goto=news'><div class='votearrow' title='upvote'></div></a></center></td><td class=\"title\"><a href=\"https://devonzuegel.com/post/the-silence-is-deafening\" class=\"storylink\">The Silence Is Deafening</a><span class=\"sitebit comhead\"> (<a href=\"from?site=devonzuegel.com\"><span class=\"sitestr\">devonzuegel.com</span></a>)</span></td></tr><tr><td colspan=\"2\"></td><td class=\"subtext\">\n",
      "        <span class=\"score\" id=\"score_23728212\">359 points</span> by <a href=\"user?id=pagade\" class=\"hnuser\">pagade</a> <span class=\"age\"><a href=\"item?id=23728212\">13 hours ago</a></span> <span id=\"unv_23728212\"></span> | <a href=\"hide?id=23728212&amp;goto=news\">hide</a> | <a href=\"item?id=23728212\">158&nbsp;comments</a>              </td></tr>\n",
      "      <tr class=\"spacer\" style=\"height:5px\"></tr>\n",
      "                <tr class='athing' id='23730865'>\n",
      "      <td align=\"right\" valign=\"top\" class=\"title\"><span class=\"rank\">23.</span></td>      <td valign=\"top\" class=\"votelinks\"><center><a id='up_23730865' href='vote?id=23730865&amp;how=up&amp;goto=news'><div class='votearrow' title='upvote'></div></a></center></td><td class=\"title\"><a href=\"http://loki3.com/flex/explore/\" class=\"storylink\">Learn to Create and Flex Flexagons</a><span class=\"sitebit comhead\"> (<a href=\"from?site=loki3.com\"><span class=\"sitestr\">loki3.com</span></a>)</span></td></tr><tr><td colspan=\"2\"></td><td class=\"subtext\">\n",
      "        <span class=\"score\" id=\"score_23730865\">9 points</span> by <a href=\"user?id=bhy\" class=\"hnuser\">bhy</a> <span class=\"age\"><a href=\"item?id=23730865\">4 hours ago</a></span> <span id=\"unv_23730865\"></span> | <a href=\"hide?id=23730865&amp;goto=news\">hide</a> | <a href=\"item?id=23730865\">2&nbsp;comments</a>              </td></tr>\n",
      "      <tr class=\"spacer\" style=\"height:5px\"></tr>\n",
      "                <tr class='athing' id='23727877'>\n",
      "      <td align=\"right\" valign=\"top\" class=\"title\"><span class=\"rank\">24.</span></td>      <td valign=\"top\" class=\"votelinks\"><center><a id='up_23727877' href='vote?id=23727877&amp;how=up&amp;goto=news'><div class='votearrow' title='upvote'></div></a></center></td><td class=\"title\"><a href=\"https://arxiv.org/abs/cs/0701158\" class=\"storylink\">Queues are Databases (1995)</a><span class=\"sitebit comhead\"> (<a href=\"from?site=arxiv.org\"><span class=\"sitestr\">arxiv.org</span></a>)</span></td></tr><tr><td colspan=\"2\"></td><td class=\"subtext\">\n",
      "        <span class=\"score\" id=\"score_23727877\">82 points</span> by <a href=\"user?id=anthony_barker\" class=\"hnuser\">anthony_barker</a> <span class=\"age\"><a href=\"item?id=23727877\">14 hours ago</a></span> <span id=\"unv_23727877\"></span> | <a href=\"hide?id=23727877&amp;goto=news\">hide</a> | <a href=\"item?id=23727877\">25&nbsp;comments</a>              </td></tr>\n",
      "      <tr class=\"spacer\" style=\"height:5px\"></tr>\n",
      "                <tr class='athing' id='23723179'>\n",
      "      <td align=\"right\" valign=\"top\" class=\"title\"><span class=\"rank\">25.</span></td>      <td valign=\"top\" class=\"votelinks\"><center><a id='up_23723179' href='vote?id=23723179&amp;how=up&amp;goto=news'><div class='votearrow' title='upvote'></div></a></center></td><td class=\"title\"><a href=\"https://able.bio/kerrishotts/building-a-basic-interpreter-80s-style--79a9d703\" class=\"storylink\">Building a BASIC Interpreter, '80s style</a><span class=\"sitebit comhead\"> (<a href=\"from?site=able.bio\"><span class=\"sitestr\">able.bio</span></a>)</span></td></tr><tr><td colspan=\"2\"></td><td class=\"subtext\">\n",
      "        <span class=\"score\" id=\"score_23723179\">35 points</span> by <a href=\"user?id=new_here\" class=\"hnuser\">new_here</a> <span class=\"age\"><a href=\"item?id=23723179\">8 hours ago</a></span> <span id=\"unv_23723179\"></span> | <a href=\"hide?id=23723179&amp;goto=news\">hide</a> | <a href=\"item?id=23723179\">4&nbsp;comments</a>              </td></tr>\n",
      "      <tr class=\"spacer\" style=\"height:5px\"></tr>\n",
      "                <tr class='athing' id='23727829'>\n",
      "      <td align=\"right\" valign=\"top\" class=\"title\"><span class=\"rank\">26.</span></td>      <td valign=\"top\" class=\"votelinks\"><center><a id='up_23727829' href='vote?id=23727829&amp;how=up&amp;goto=news'><div class='votearrow' title='upvote'></div></a></center></td><td class=\"title\"><a href=\"https://aiweirdness.com/post/622648824384602112/when-data-is-messy\" class=\"storylink\">Tench: When data is messy</a><span class=\"sitebit comhead\"> (<a href=\"from?site=aiweirdness.com\"><span class=\"sitestr\">aiweirdness.com</span></a>)</span></td></tr><tr><td colspan=\"2\"></td><td class=\"subtext\">\n",
      "        <span class=\"score\" id=\"score_23727829\">26 points</span> by <a href=\"user?id=tosh\" class=\"hnuser\">tosh</a> <span class=\"age\"><a href=\"item?id=23727829\">8 hours ago</a></span> <span id=\"unv_23727829\"></span> | <a href=\"hide?id=23727829&amp;goto=news\">hide</a> | <a href=\"item?id=23727829\">5&nbsp;comments</a>              </td></tr>\n",
      "      <tr class=\"spacer\" style=\"height:5px\"></tr>\n",
      "                <tr class='athing' id='23714977'>\n",
      "      <td align=\"right\" valign=\"top\" class=\"title\"><span class=\"rank\">27.</span></td>      <td valign=\"top\" class=\"votelinks\"><center><a id='up_23714977' href='vote?id=23714977&amp;how=up&amp;goto=news'><div class='votearrow' title='upvote'></div></a></center></td><td class=\"title\"><a href=\"https://research.fb.com/blog/2020/07/introducing-neural-supersampling-for-real-time-rendering/\" class=\"storylink\">Neural Supersampling for Real-Time Rendering</a><span class=\"sitebit comhead\"> (<a href=\"from?site=fb.com\"><span class=\"sitestr\">fb.com</span></a>)</span></td></tr><tr><td colspan=\"2\"></td><td class=\"subtext\">\n",
      "        <span class=\"score\" id=\"score_23714977\">72 points</span> by <a href=\"user?id=jsheard\" class=\"hnuser\">jsheard</a> <span class=\"age\"><a href=\"item?id=23714977\">12 hours ago</a></span> <span id=\"unv_23714977\"></span> | <a href=\"hide?id=23714977&amp;goto=news\">hide</a> | <a href=\"item?id=23714977\">30&nbsp;comments</a>              </td></tr>\n",
      "      <tr class=\"spacer\" style=\"height:5px\"></tr>\n",
      "                <tr class='athing' id='23731262'>\n",
      "      <td align=\"right\" valign=\"top\" class=\"title\"><span class=\"rank\">28.</span></td>      <td valign=\"top\" class=\"votelinks\"><center><a id='up_23731262' href='vote?id=23731262&amp;how=up&amp;goto=news'><div class='votearrow' title='upvote'></div></a></center></td><td class=\"title\"><a href=\"https://www.phoronix.com/scan.php?page=news_item&amp;px=Firefox-80-VA-API-X11\" class=\"storylink\">Firefox 80 to Support VA-API Acceleration on X11</a><span class=\"sitebit comhead\"> (<a href=\"from?site=phoronix.com\"><span class=\"sitestr\">phoronix.com</span></a>)</span></td></tr><tr><td colspan=\"2\"></td><td class=\"subtext\">\n",
      "        <span class=\"score\" id=\"score_23731262\">66 points</span> by <a href=\"user?id=caution\" class=\"hnuser\">caution</a> <span class=\"age\"><a href=\"item?id=23731262\">2 hours ago</a></span> <span id=\"unv_23731262\"></span> | <a href=\"hide?id=23731262&amp;goto=news\">hide</a> | <a href=\"item?id=23731262\">17&nbsp;comments</a>              </td></tr>\n",
      "      <tr class=\"spacer\" style=\"height:5px\"></tr>\n",
      "                <tr class='athing' id='23723385'>\n",
      "      <td align=\"right\" valign=\"top\" class=\"title\"><span class=\"rank\">29.</span></td>      <td valign=\"top\" class=\"votelinks\"><center><a id='up_23723385' href='vote?id=23723385&amp;how=up&amp;goto=news'><div class='votearrow' title='upvote'></div></a></center></td><td class=\"title\"><a href=\"https://www.atlasobscura.com/articles/behold-the-renaissance-bookwheel\" class=\"storylink\">Students built a 16th-century engineer’s book-reading machine</a><span class=\"sitebit comhead\"> (<a href=\"from?site=atlasobscura.com\"><span class=\"sitestr\">atlasobscura.com</span></a>)</span></td></tr><tr><td colspan=\"2\"></td><td class=\"subtext\">\n",
      "        <span class=\"score\" id=\"score_23723385\">26 points</span> by <a href=\"user?id=pseudolus\" class=\"hnuser\">pseudolus</a> <span class=\"age\"><a href=\"item?id=23723385\">8 hours ago</a></span> <span id=\"unv_23723385\"></span> | <a href=\"hide?id=23723385&amp;goto=news\">hide</a> | <a href=\"item?id=23723385\">8&nbsp;comments</a>              </td></tr>\n",
      "      <tr class=\"spacer\" style=\"height:5px\"></tr>\n",
      "                <tr class='athing' id='23723775'>\n",
      "      <td align=\"right\" valign=\"top\" class=\"title\"><span class=\"rank\">30.</span></td>      <td valign=\"top\" class=\"votelinks\"><center><a id='up_23723775' href='vote?id=23723775&amp;how=up&amp;goto=news'><div class='votearrow' title='upvote'></div></a></center></td><td class=\"title\"><a href=\"https://www.zettlr.com/\" class=\"storylink\">Zettlr – FOSS markdown editor for personal knowledge management and publishing</a><span class=\"sitebit comhead\"> (<a href=\"from?site=zettlr.com\"><span class=\"sitestr\">zettlr.com</span></a>)</span></td></tr><tr><td colspan=\"2\"></td><td class=\"subtext\">\n",
      "        <span class=\"score\" id=\"score_23723775\">589 points</span> by <a href=\"user?id=DerWOK\" class=\"hnuser\">DerWOK</a> <span class=\"age\"><a href=\"item?id=23723775\">22 hours ago</a></span> <span id=\"unv_23723775\"></span> | <a href=\"hide?id=23723775&amp;goto=news\">hide</a> | <a href=\"item?id=23723775\">225&nbsp;comments</a>              </td></tr>\n",
      "      <tr class=\"spacer\" style=\"height:5px\"></tr>\n",
      "            <tr class=\"morespace\" style=\"height:10px\"></tr><tr><td colspan=\"2\"></td><td class=\"title\"><a href=\"news?p=2\" class=\"morelink\" rel=\"next\">More</a></td></tr>\n",
      "  </table>\n",
      "</td></tr>\n",
      "<tr><td><img src=\"s.gif\" height=\"10\" width=\"0\"><table width=\"100%\" cellspacing=\"0\" cellpadding=\"1\"><tr><td bgcolor=\"#ff6600\"></td></tr></table><br><center><span class=\"yclinks\"><a href=\"newsguidelines.html\">Guidelines</a>\n",
      "        | <a href=\"newsfaq.html\">FAQ</a>\n",
      "        | <a href=\"mailto:hn@ycombinator.com\">Support</a>\n",
      "        | <a href=\"https://github.com/HackerNews/API\">API</a>\n",
      "        | <a href=\"security.html\">Security</a>\n",
      "        | <a href=\"lists\">Lists</a>\n",
      "        | <a href=\"bookmarklet.html\" rel=\"nofollow\">Bookmarklet</a>\n",
      "        | <a href=\"http://www.ycombinator.com/legal/\">Legal</a>\n",
      "        | <a href=\"http://www.ycombinator.com/apply/\">Apply to YC</a>\n",
      "        | <a href=\"mailto:hn@ycombinator.com\">Contact</a></span><br><br><form method=\"get\" action=\"//hn.algolia.com/\">Search:\n",
      "          <input type=\"text\" name=\"q\" value=\"\" size=\"17\" autocorrect=\"off\" spellcheck=\"false\" autocapitalize=\"off\" autocomplete=\"false\"></form>\n",
      "            </center></td></tr>\n",
      "      </table></center></body><script type='text/javascript' src='hn.js?OfhGWVnZXe6MY48FefEz'></script></html>\n",
      "\n"
     ]
    }
   ],
   "source": [
    "import requests\n",
    "\n",
    "# Fetch a web page\n",
    "r = requests.get(\"https://news.ycombinator.com\")\n",
    "print(r.text)"
   ]
  },
  {
   "cell_type": "code",
   "execution_count": 5,
   "metadata": {},
   "outputs": [
    {
     "name": "stdout",
     "output_type": "stream",
     "text": [
      "\n",
      "        \n",
      "          \n",
      "        Hacker News\n",
      "        \n",
      "                  Hacker News\n",
      "              new | past | comments | ask | show | jobs | submit            \n",
      "                              login\n",
      "                          \n",
      "              \n",
      "\n",
      "              \n",
      "      1.      Where Am I? NYTimes or Google? (theinternetbytes.com)\n",
      "        753 points by rwoll 11 hours ago  | hide | 221&nbsp;comments              \n",
      "      \n",
      "                \n",
      "      2.      A look at the Gemini protocol: a brutally simple alternative to the web (toffelblog.xyz)\n",
      "        153 points by flatlanderwoman 6 hours ago  | hide | 109&nbsp;comments              \n",
      "      \n",
      "                \n",
      "      3.      Scuba diver accidentally discovers prehistoric industrial complex in Mexico (nationalpost.com)\n",
      "        37 points by aritraghosh007 4 hours ago  | hide | 4&nbsp;comments              \n",
      "      \n",
      "                \n",
      "      4.      PuTTY: Observable Discrepancy leading to a leak in the algorithm negotiation (nist.gov)\n",
      "        13 points by based2 2 hours ago  | hide | 3&nbsp;comments              \n",
      "      \n",
      "                \n",
      "      5.      SSH Emergency Access (smallstep.com)\n",
      "        12 points by based2 1 hour ago  | hide | 3&nbsp;comments              \n",
      "      \n",
      "                \n",
      "      6.      Low latency multipliers and cryptographic puzzles (janestreet.com)\n",
      "        13 points by jsnell 2 hours ago  | hide | discuss              \n",
      "      \n",
      "                \n",
      "      7.      Sphere Eversion (rreusser.github.io)\n",
      "        122 points by colinprince 9 hours ago  | hide | 25&nbsp;comments              \n",
      "      \n",
      "                \n",
      "      8.      Yamato becomes Japan's first city to 'ban' use of phones while walking (japantimes.co.jp)\n",
      "        26 points by chewz 1 hour ago  | hide | 13&nbsp;comments              \n",
      "      \n",
      "                \n",
      "      9.      2+1=4, by quinoa (efavdb.com)\n",
      "        301 points by efavdb 14 hours ago  | hide | 127&nbsp;comments              \n",
      "      \n",
      "                \n",
      "      10.      Photo Requests from Solitary (photorequestsfromsolitary.org)\n",
      "        47 points by chaosmachine 5 hours ago  | hide | 21&nbsp;comments              \n",
      "      \n",
      "                \n",
      "      11.      Bitcoin From Scratch – Part 1 (monokh.com)\n",
      "        208 points by monokh 13 hours ago  | hide | 53&nbsp;comments              \n",
      "      \n",
      "                \n",
      "      12.      Harmful Workload Generator for PostgreSQL (github.com)\n",
      "        8 points by tirumaraiselvan 1 hour ago  | hide | discuss              \n",
      "      \n",
      "                \n",
      "      13.      Invention of satanic witchcraft by medieval authorities was met with skepticism (theconversation.com)\n",
      "        112 points by Thevet 10 hours ago  | hide | 90&nbsp;comments              \n",
      "      \n",
      "                \n",
      "      14.      Differential privacy tools from MS Research and Harvard (microsoft.com)\n",
      "        60 points by op03 9 hours ago  | hide | 4&nbsp;comments              \n",
      "      \n",
      "                \n",
      "      15.      LIGO Black hole merger may have optical confirmation (caltech.edu)\n",
      "        72 points by throwaway2048 11 hours ago  | hide | 7&nbsp;comments              \n",
      "      \n",
      "                \n",
      "      16.      Closos: Specification of a Lisp operating system (2013) [pdf] (metamodular.com)\n",
      "        43 points by ska80 7 hours ago  | hide | 7&nbsp;comments              \n",
      "      \n",
      "                \n",
      "      17.      Cronk: Long-lost beverage resurrected after 120 years (theguardian.com)\n",
      "        73 points by pseudolus 10 hours ago  | hide | 16&nbsp;comments              \n",
      "      \n",
      "                \n",
      "      18.      Ask HN: Good Resources on Voice Encryption?\n",
      "        22 points by quotz 5 hours ago  | hide | 21&nbsp;comments              \n",
      "      \n",
      "                \n",
      "      19.      Thrones Wreathed in Shadow: Tacitus and the psychology of authoritarianism (warontherocks.com)\n",
      "        45 points by hoffmanesque 7 hours ago  | hide | 7&nbsp;comments              \n",
      "      \n",
      "                \n",
      "      20.      Scaling Linux Services: Before accepting connections (theojulienne.io)\n",
      "        123 points by theojulienne 11 hours ago  | hide | 17&nbsp;comments              \n",
      "      \n",
      "                \n",
      "      21.      The Walkman, Forty Years On (newyorker.com)\n",
      "        142 points by kwindla 14 hours ago  | hide | 114&nbsp;comments              \n",
      "      \n",
      "                \n",
      "      22.      The Silence Is Deafening (devonzuegel.com)\n",
      "        359 points by pagade 13 hours ago  | hide | 158&nbsp;comments              \n",
      "      \n",
      "                \n",
      "      23.      Learn to Create and Flex Flexagons (loki3.com)\n",
      "        9 points by bhy 4 hours ago  | hide | 2&nbsp;comments              \n",
      "      \n",
      "                \n",
      "      24.      Queues are Databases (1995) (arxiv.org)\n",
      "        82 points by anthony_barker 14 hours ago  | hide | 25&nbsp;comments              \n",
      "      \n",
      "                \n",
      "      25.      Building a BASIC Interpreter, '80s style (able.bio)\n",
      "        35 points by new_here 8 hours ago  | hide | 4&nbsp;comments              \n",
      "      \n",
      "                \n",
      "      26.      Tench: When data is messy (aiweirdness.com)\n",
      "        26 points by tosh 8 hours ago  | hide | 5&nbsp;comments              \n",
      "      \n",
      "                \n",
      "      27.      Neural Supersampling for Real-Time Rendering (fb.com)\n",
      "        72 points by jsheard 12 hours ago  | hide | 30&nbsp;comments              \n",
      "      \n",
      "                \n",
      "      28.      Firefox 80 to Support VA-API Acceleration on X11 (phoronix.com)\n",
      "        66 points by caution 2 hours ago  | hide | 17&nbsp;comments              \n",
      "      \n",
      "                \n",
      "      29.      Students built a 16th-century engineer’s book-reading machine (atlasobscura.com)\n",
      "        26 points by pseudolus 8 hours ago  | hide | 8&nbsp;comments              \n",
      "      \n",
      "                \n",
      "      30.      Zettlr – FOSS markdown editor for personal knowledge management and publishing (zettlr.com)\n",
      "        589 points by DerWOK 22 hours ago  | hide | 225&nbsp;comments              \n",
      "      \n",
      "            More\n",
      "  \n",
      "\n",
      "Guidelines\n",
      "        | FAQ\n",
      "        | Support\n",
      "        | API\n",
      "        | Security\n",
      "        | Lists\n",
      "        | Bookmarklet\n",
      "        | Legal\n",
      "        | Apply to YC\n",
      "        | ContactSearch:\n",
      "          \n",
      "            \n",
      "      \n",
      "\n"
     ]
    }
   ],
   "source": [
    "import re\n",
    "\n",
    "# Remove HTML tags using RegEx\n",
    "pattern = re.compile(r'<.*?>')  # tags look like <...>\n",
    "print(pattern.sub('', r.text))  # replace them with blank"
   ]
  },
  {
   "cell_type": "code",
   "execution_count": 6,
   "metadata": {},
   "outputs": [
    {
     "name": "stdout",
     "output_type": "stream",
     "text": [
      "\n",
      "        \n",
      "          \n",
      "        Hacker News\n",
      "        \n",
      "                  Hacker News\n",
      "              new | past | comments | ask | show | jobs | submit            \n",
      "                              login\n",
      "                          \n",
      "              \n",
      "\n",
      "              \n",
      "      1.      Where Am I? NYTimes or Google? (theinternetbytes.com)\n",
      "        753 points by rwoll 11 hours ago  | hide | 221 comments              \n",
      "      \n",
      "                \n",
      "      2.      A look at the Gemini protocol: a brutally simple alternative to the web (toffelblog.xyz)\n",
      "        153 points by flatlanderwoman 6 hours ago  | hide | 109 comments              \n",
      "      \n",
      "                \n",
      "      3.      Scuba diver accidentally discovers prehistoric industrial complex in Mexico (nationalpost.com)\n",
      "        37 points by aritraghosh007 4 hours ago  | hide | 4 comments              \n",
      "      \n",
      "                \n",
      "      4.      PuTTY: Observable Discrepancy leading to a leak in the algorithm negotiation (nist.gov)\n",
      "        13 points by based2 2 hours ago  | hide | 3 comments              \n",
      "      \n",
      "                \n",
      "      5.      SSH Emergency Access (smallstep.com)\n",
      "        12 points by based2 1 hour ago  | hide | 3 comments              \n",
      "      \n",
      "                \n",
      "      6.      Low latency multipliers and cryptographic puzzles (janestreet.com)\n",
      "        13 points by jsnell 2 hours ago  | hide | discuss              \n",
      "      \n",
      "                \n",
      "      7.      Sphere Eversion (rreusser.github.io)\n",
      "        122 points by colinprince 9 hours ago  | hide | 25 comments              \n",
      "      \n",
      "                \n",
      "      8.      Yamato becomes Japan's first city to 'ban' use of phones while walking (japantimes.co.jp)\n",
      "        26 points by chewz 1 hour ago  | hide | 13 comments              \n",
      "      \n",
      "                \n",
      "      9.      2+1=4, by quinoa (efavdb.com)\n",
      "        301 points by efavdb 14 hours ago  | hide | 127 comments              \n",
      "      \n",
      "                \n",
      "      10.      Photo Requests from Solitary (photorequestsfromsolitary.org)\n",
      "        47 points by chaosmachine 5 hours ago  | hide | 21 comments              \n",
      "      \n",
      "                \n",
      "      11.      Bitcoin From Scratch – Part 1 (monokh.com)\n",
      "        208 points by monokh 13 hours ago  | hide | 53 comments              \n",
      "      \n",
      "                \n",
      "      12.      Harmful Workload Generator for PostgreSQL (github.com)\n",
      "        8 points by tirumaraiselvan 1 hour ago  | hide | discuss              \n",
      "      \n",
      "                \n",
      "      13.      Invention of satanic witchcraft by medieval authorities was met with skepticism (theconversation.com)\n",
      "        112 points by Thevet 10 hours ago  | hide | 90 comments              \n",
      "      \n",
      "                \n",
      "      14.      Differential privacy tools from MS Research and Harvard (microsoft.com)\n",
      "        60 points by op03 9 hours ago  | hide | 4 comments              \n",
      "      \n",
      "                \n",
      "      15.      LIGO Black hole merger may have optical confirmation (caltech.edu)\n",
      "        72 points by throwaway2048 11 hours ago  | hide | 7 comments              \n",
      "      \n",
      "                \n",
      "      16.      Closos: Specification of a Lisp operating system (2013) [pdf] (metamodular.com)\n",
      "        43 points by ska80 7 hours ago  | hide | 7 comments              \n",
      "      \n",
      "                \n",
      "      17.      Cronk: Long-lost beverage resurrected after 120 years (theguardian.com)\n",
      "        73 points by pseudolus 10 hours ago  | hide | 16 comments              \n",
      "      \n",
      "                \n",
      "      18.      Ask HN: Good Resources on Voice Encryption?\n",
      "        22 points by quotz 5 hours ago  | hide | 21 comments              \n",
      "      \n",
      "                \n",
      "      19.      Thrones Wreathed in Shadow: Tacitus and the psychology of authoritarianism (warontherocks.com)\n",
      "        45 points by hoffmanesque 7 hours ago  | hide | 7 comments              \n",
      "      \n",
      "                \n",
      "      20.      Scaling Linux Services: Before accepting connections (theojulienne.io)\n",
      "        123 points by theojulienne 11 hours ago  | hide | 17 comments              \n",
      "      \n",
      "                \n",
      "      21.      The Walkman, Forty Years On (newyorker.com)\n",
      "        142 points by kwindla 14 hours ago  | hide | 114 comments              \n",
      "      \n",
      "                \n",
      "      22.      The Silence Is Deafening (devonzuegel.com)\n",
      "        359 points by pagade 13 hours ago  | hide | 158 comments              \n",
      "      \n",
      "                \n",
      "      23.      Learn to Create and Flex Flexagons (loki3.com)\n",
      "        9 points by bhy 4 hours ago  | hide | 2 comments              \n",
      "      \n",
      "                \n",
      "      24.      Queues are Databases (1995) (arxiv.org)\n",
      "        82 points by anthony_barker 14 hours ago  | hide | 25 comments              \n",
      "      \n",
      "                \n",
      "      25.      Building a BASIC Interpreter, '80s style (able.bio)\n",
      "        35 points by new_here 8 hours ago  | hide | 4 comments              \n",
      "      \n",
      "                \n",
      "      26.      Tench: When data is messy (aiweirdness.com)\n",
      "        26 points by tosh 8 hours ago  | hide | 5 comments              \n",
      "      \n",
      "                \n",
      "      27.      Neural Supersampling for Real-Time Rendering (fb.com)\n",
      "        72 points by jsheard 12 hours ago  | hide | 30 comments              \n",
      "      \n",
      "                \n",
      "      28.      Firefox 80 to Support VA-API Acceleration on X11 (phoronix.com)\n",
      "        66 points by caution 2 hours ago  | hide | 17 comments              \n",
      "      \n",
      "                \n",
      "      29.      Students built a 16th-century engineer’s book-reading machine (atlasobscura.com)\n",
      "        26 points by pseudolus 8 hours ago  | hide | 8 comments              \n",
      "      \n",
      "                \n",
      "      30.      Zettlr – FOSS markdown editor for personal knowledge management and publishing (zettlr.com)\n",
      "        589 points by DerWOK 22 hours ago  | hide | 225 comments              \n",
      "      \n",
      "            More\n",
      "  \n",
      "\n",
      "Guidelines\n",
      "        | FAQ\n",
      "        | Support\n",
      "        | API\n",
      "        | Security\n",
      "        | Lists\n",
      "        | Bookmarklet\n",
      "        | Legal\n",
      "        | Apply to YC\n",
      "        | ContactSearch:\n",
      "          \n",
      "            \n",
      "      \n",
      "\n"
     ]
    }
   ],
   "source": [
    "from bs4 import BeautifulSoup\n",
    "\n",
    "# Remove HTML tags using Beautiful Soup library\n",
    "soup = BeautifulSoup(r.text, \"html5lib\")\n",
    "print(soup.get_text())"
   ]
  },
  {
   "cell_type": "code",
   "execution_count": 7,
   "metadata": {
    "scrolled": true
   },
   "outputs": [
    {
     "data": {
      "text/plain": [
       "<tr class=\"athing\" id=\"23729160\">\n",
       "      <td align=\"right\" class=\"title\" valign=\"top\"><span class=\"rank\">1.</span></td>      <td class=\"votelinks\" valign=\"top\"><center><a href=\"vote?id=23729160&amp;how=up&amp;goto=news\" id=\"up_23729160\"><div class=\"votearrow\" title=\"upvote\"></div></a></center></td><td class=\"title\"><a class=\"storylink\" href=\"https://theinternetbytes.com/2020/07/03/where-am-i/\">Where Am I? NYTimes or Google?</a><span class=\"sitebit comhead\"> (<a href=\"from?site=theinternetbytes.com\"><span class=\"sitestr\">theinternetbytes.com</span></a>)</span></td></tr>"
      ]
     },
     "execution_count": 7,
     "metadata": {},
     "output_type": "execute_result"
    }
   ],
   "source": [
    "# Find all articles\n",
    "summaries = soup.find_all(\"tr\", class_=\"athing\")\n",
    "summaries[0]"
   ]
  },
  {
   "cell_type": "code",
   "execution_count": 8,
   "metadata": {},
   "outputs": [
    {
     "data": {
      "text/plain": [
       "'Where Am I? NYTimes or Google?'"
      ]
     },
     "execution_count": 8,
     "metadata": {},
     "output_type": "execute_result"
    }
   ],
   "source": [
    "# Extract title\n",
    "summaries[0].find(\"a\", class_=\"storylink\").get_text().strip()"
   ]
  },
  {
   "cell_type": "code",
   "execution_count": 9,
   "metadata": {},
   "outputs": [
    {
     "name": "stdout",
     "output_type": "stream",
     "text": [
      "30 Article summaries found. Sample:\n",
      "Where Am I? NYTimes or Google?\n"
     ]
    }
   ],
   "source": [
    "# Find all articles, extract titles\n",
    "articles = []\n",
    "summaries = soup.find_all(\"tr\", class_=\"athing\")\n",
    "for summary in summaries:\n",
    "    title = summary.find(\"a\", class_=\"storylink\").get_text().strip()\n",
    "    articles.append((title))\n",
    "\n",
    "print(len(articles), \"Article summaries found. Sample:\")\n",
    "print(articles[0])"
   ]
  },
  {
   "cell_type": "markdown",
   "metadata": {
    "collapsed": true
   },
   "source": [
    "## Normalization"
   ]
  },
  {
   "cell_type": "markdown",
   "metadata": {},
   "source": [
    "### Case Normalization"
   ]
  },
  {
   "cell_type": "code",
   "execution_count": 10,
   "metadata": {},
   "outputs": [
    {
     "name": "stdout",
     "output_type": "stream",
     "text": [
      "The first time you see The Second Renaissance it may look boring. Look at it at least twice and definitely watch part 2. It will change your view of the matrix. Are the human people the ones who started the war ? Is AI a bad thing ?\n"
     ]
    }
   ],
   "source": [
    "# Sample text\n",
    "text = \"The first time you see The Second Renaissance it may look boring. Look at it at least twice and definitely watch part 2. It will change your view of the matrix. Are the human people the ones who started the war ? Is AI a bad thing ?\"\n",
    "print(text)"
   ]
  },
  {
   "cell_type": "code",
   "execution_count": 11,
   "metadata": {},
   "outputs": [
    {
     "name": "stdout",
     "output_type": "stream",
     "text": [
      "the first time you see the second renaissance it may look boring. look at it at least twice and definitely watch part 2. it will change your view of the matrix. are the human people the ones who started the war ? is ai a bad thing ?\n"
     ]
    }
   ],
   "source": [
    "# Convert to lowercase\n",
    "text = text.lower() \n",
    "print(text)"
   ]
  },
  {
   "cell_type": "markdown",
   "metadata": {},
   "source": [
    "### Punctuation Removal"
   ]
  },
  {
   "cell_type": "code",
   "execution_count": 12,
   "metadata": {},
   "outputs": [
    {
     "name": "stdout",
     "output_type": "stream",
     "text": [
      "the first time you see the second renaissance it may look boring  look at it at least twice and definitely watch part 2  it will change your view of the matrix  are the human people the ones who started the war   is ai a bad thing  \n"
     ]
    }
   ],
   "source": [
    "import re\n",
    "\n",
    "# Remove punctuation characters\n",
    "text = re.sub(r\"[^a-zA-Z0-9]\", \" \", text) \n",
    "print(text)"
   ]
  },
  {
   "cell_type": "markdown",
   "metadata": {},
   "source": [
    "## Tokenization"
   ]
  },
  {
   "cell_type": "code",
   "execution_count": 13,
   "metadata": {},
   "outputs": [
    {
     "name": "stdout",
     "output_type": "stream",
     "text": [
      "['the', 'first', 'time', 'you', 'see', 'the', 'second', 'renaissance', 'it', 'may', 'look', 'boring', 'look', 'at', 'it', 'at', 'least', 'twice', 'and', 'definitely', 'watch', 'part', '2', 'it', 'will', 'change', 'your', 'view', 'of', 'the', 'matrix', 'are', 'the', 'human', 'people', 'the', 'ones', 'who', 'started', 'the', 'war', 'is', 'ai', 'a', 'bad', 'thing']\n"
     ]
    }
   ],
   "source": [
    "# Split text into tokens (words)\n",
    "words = text.split()\n",
    "print(words)"
   ]
  },
  {
   "cell_type": "markdown",
   "metadata": {},
   "source": [
    "### NLTK: Natural Language ToolKit"
   ]
  },
  {
   "cell_type": "code",
   "execution_count": 14,
   "metadata": {},
   "outputs": [],
   "source": [
    "import os\n",
    "import nltk\n",
    "nltk.data.path.append(os.path.join(os.getcwd(), \"nltk_data\"))"
   ]
  },
  {
   "cell_type": "code",
   "execution_count": 15,
   "metadata": {},
   "outputs": [
    {
     "name": "stdout",
     "output_type": "stream",
     "text": [
      "Dr. Smith graduated from the University of Washington. He later started an analytics firm called Lux, which catered to enterprise customers.\n"
     ]
    }
   ],
   "source": [
    "# Another sample text\n",
    "text = \"Dr. Smith graduated from the University of Washington. He later started an analytics firm called Lux, which catered to enterprise customers.\"\n",
    "print(text)"
   ]
  },
  {
   "cell_type": "code",
   "execution_count": 16,
   "metadata": {},
   "outputs": [
    {
     "name": "stdout",
     "output_type": "stream",
     "text": [
      "['Dr.', 'Smith', 'graduated', 'from', 'the', 'University', 'of', 'Washington', '.', 'He', 'later', 'started', 'an', 'analytics', 'firm', 'called', 'Lux', ',', 'which', 'catered', 'to', 'enterprise', 'customers', '.']\n"
     ]
    }
   ],
   "source": [
    "from nltk.tokenize import word_tokenize\n",
    "\n",
    "# Split text into words using NLTK\n",
    "words = word_tokenize(text)\n",
    "print(words)"
   ]
  },
  {
   "cell_type": "code",
   "execution_count": 17,
   "metadata": {},
   "outputs": [
    {
     "name": "stdout",
     "output_type": "stream",
     "text": [
      "['Dr. Smith graduated from the University of Washington.', 'He later started an analytics firm called Lux, which catered to enterprise customers.']\n"
     ]
    }
   ],
   "source": [
    "from nltk.tokenize import sent_tokenize\n",
    "\n",
    "# Split text into sentences\n",
    "sentences = sent_tokenize(text)\n",
    "print(sentences)"
   ]
  },
  {
   "cell_type": "code",
   "execution_count": 18,
   "metadata": {},
   "outputs": [
    {
     "name": "stdout",
     "output_type": "stream",
     "text": [
      "['i', 'me', 'my', 'myself', 'we', 'our', 'ours', 'ourselves', 'you', \"you're\", \"you've\", \"you'll\", \"you'd\", 'your', 'yours', 'yourself', 'yourselves', 'he', 'him', 'his', 'himself', 'she', \"she's\", 'her', 'hers', 'herself', 'it', \"it's\", 'its', 'itself', 'they', 'them', 'their', 'theirs', 'themselves', 'what', 'which', 'who', 'whom', 'this', 'that', \"that'll\", 'these', 'those', 'am', 'is', 'are', 'was', 'were', 'be', 'been', 'being', 'have', 'has', 'had', 'having', 'do', 'does', 'did', 'doing', 'a', 'an', 'the', 'and', 'but', 'if', 'or', 'because', 'as', 'until', 'while', 'of', 'at', 'by', 'for', 'with', 'about', 'against', 'between', 'into', 'through', 'during', 'before', 'after', 'above', 'below', 'to', 'from', 'up', 'down', 'in', 'out', 'on', 'off', 'over', 'under', 'again', 'further', 'then', 'once', 'here', 'there', 'when', 'where', 'why', 'how', 'all', 'any', 'both', 'each', 'few', 'more', 'most', 'other', 'some', 'such', 'no', 'nor', 'not', 'only', 'own', 'same', 'so', 'than', 'too', 'very', 's', 't', 'can', 'will', 'just', 'don', \"don't\", 'should', \"should've\", 'now', 'd', 'll', 'm', 'o', 're', 've', 'y', 'ain', 'aren', \"aren't\", 'couldn', \"couldn't\", 'didn', \"didn't\", 'doesn', \"doesn't\", 'hadn', \"hadn't\", 'hasn', \"hasn't\", 'haven', \"haven't\", 'isn', \"isn't\", 'ma', 'mightn', \"mightn't\", 'mustn', \"mustn't\", 'needn', \"needn't\", 'shan', \"shan't\", 'shouldn', \"shouldn't\", 'wasn', \"wasn't\", 'weren', \"weren't\", 'won', \"won't\", 'wouldn', \"wouldn't\"]\n"
     ]
    }
   ],
   "source": [
    "# List stop words\n",
    "from nltk.corpus import stopwords\n",
    "print(stopwords.words(\"english\"))"
   ]
  },
  {
   "cell_type": "code",
   "execution_count": 19,
   "metadata": {},
   "outputs": [
    {
     "name": "stdout",
     "output_type": "stream",
     "text": [
      "['the', 'first', 'time', 'you', 'see', 'the', 'second', 'renaissance', 'it', 'may', 'look', 'boring', 'look', 'at', 'it', 'at', 'least', 'twice', 'and', 'definitely', 'watch', 'part', '2', 'it', 'will', 'change', 'your', 'view', 'of', 'the', 'matrix', 'are', 'the', 'human', 'people', 'the', 'ones', 'who', 'started', 'the', 'war', 'is', 'ai', 'a', 'bad', 'thing']\n"
     ]
    }
   ],
   "source": [
    "# Reset text\n",
    "text = \"The first time you see The Second Renaissance it may look boring. Look at it at least twice and definitely watch part 2. It will change your view of the matrix. Are the human people the ones who started the war ? Is AI a bad thing ?\"\n",
    "\n",
    "# Normalize it\n",
    "text = re.sub(r\"[^a-zA-Z0-9]\", \" \", text.lower())\n",
    "\n",
    "# Tokenize it\n",
    "words = text.split()\n",
    "print(words)"
   ]
  },
  {
   "cell_type": "code",
   "execution_count": 20,
   "metadata": {},
   "outputs": [
    {
     "name": "stdout",
     "output_type": "stream",
     "text": [
      "['first', 'time', 'see', 'second', 'renaissance', 'may', 'look', 'boring', 'look', 'least', 'twice', 'definitely', 'watch', 'part', '2', 'change', 'view', 'matrix', 'human', 'people', 'ones', 'started', 'war', 'ai', 'bad', 'thing']\n"
     ]
    }
   ],
   "source": [
    "# Remove stop words\n",
    "words = [w for w in words if w not in stopwords.words(\"english\")]\n",
    "print(words)"
   ]
  },
  {
   "cell_type": "markdown",
   "metadata": {},
   "source": [
    "### Sentence Parsing"
   ]
  },
  {
   "cell_type": "code",
   "execution_count": 21,
   "metadata": {},
   "outputs": [
    {
     "name": "stdout",
     "output_type": "stream",
     "text": [
      "(S\n",
      "  (NP I)\n",
      "  (VP\n",
      "    (VP (V shot) (NP (Det an) (N elephant)))\n",
      "    (PP (P in) (NP (Det my) (N pajamas)))))\n",
      "(S\n",
      "  (NP I)\n",
      "  (VP\n",
      "    (V shot)\n",
      "    (NP (Det an) (N elephant) (PP (P in) (NP (Det my) (N pajamas))))))\n"
     ]
    }
   ],
   "source": [
    "import nltk\n",
    "\n",
    "# Define a custom grammar\n",
    "my_grammar = nltk.CFG.fromstring(\"\"\"\n",
    "S -> NP VP\n",
    "PP -> P NP\n",
    "NP -> Det N | Det N PP | 'I'\n",
    "VP -> V NP | VP PP\n",
    "Det -> 'an' | 'my'\n",
    "N -> 'elephant' | 'pajamas'\n",
    "V -> 'shot'\n",
    "P -> 'in'\n",
    "\"\"\")\n",
    "parser = nltk.ChartParser(my_grammar)\n",
    "\n",
    "# Parse a sentence\n",
    "sentence = word_tokenize(\"I shot an elephant in my pajamas\")\n",
    "for tree in parser.parse(sentence):\n",
    "    print(tree)"
   ]
  },
  {
   "cell_type": "markdown",
   "metadata": {},
   "source": [
    "## Stemming & Lemmatization\n",
    "\n",
    "### Stemming"
   ]
  },
  {
   "cell_type": "code",
   "execution_count": 22,
   "metadata": {},
   "outputs": [
    {
     "name": "stdout",
     "output_type": "stream",
     "text": [
      "['first', 'time', 'see', 'second', 'renaiss', 'may', 'look', 'bore', 'look', 'least', 'twice', 'definit', 'watch', 'part', '2', 'chang', 'view', 'matrix', 'human', 'peopl', 'one', 'start', 'war', 'ai', 'bad', 'thing']\n"
     ]
    }
   ],
   "source": [
    "from nltk.stem.porter import PorterStemmer\n",
    "\n",
    "# Reduce words to their stems\n",
    "stemmed = [PorterStemmer().stem(w) for w in words]\n",
    "print(stemmed)"
   ]
  },
  {
   "cell_type": "markdown",
   "metadata": {},
   "source": [
    "### Lemmatization"
   ]
  },
  {
   "cell_type": "code",
   "execution_count": 23,
   "metadata": {},
   "outputs": [
    {
     "name": "stdout",
     "output_type": "stream",
     "text": [
      "['first', 'time', 'see', 'second', 'renaissance', 'may', 'look', 'boring', 'look', 'least', 'twice', 'definitely', 'watch', 'part', '2', 'change', 'view', 'matrix', 'human', 'people', 'one', 'started', 'war', 'ai', 'bad', 'thing']\n"
     ]
    }
   ],
   "source": [
    "from nltk.stem.wordnet import WordNetLemmatizer\n",
    "\n",
    "# Reduce words to their root form\n",
    "lemmed = [WordNetLemmatizer().lemmatize(w) for w in words]\n",
    "print(lemmed)"
   ]
  },
  {
   "cell_type": "code",
   "execution_count": 24,
   "metadata": {},
   "outputs": [
    {
     "name": "stdout",
     "output_type": "stream",
     "text": [
      "['first', 'time', 'see', 'second', 'renaissance', 'may', 'look', 'bore', 'look', 'least', 'twice', 'definitely', 'watch', 'part', '2', 'change', 'view', 'matrix', 'human', 'people', 'one', 'start', 'war', 'ai', 'bad', 'thing']\n"
     ]
    }
   ],
   "source": [
    "# Lemmatize verbs by specifying pos\n",
    "lemmed = [WordNetLemmatizer().lemmatize(w, pos='v') for w in lemmed]\n",
    "print(lemmed)"
   ]
  },
  {
   "cell_type": "code",
   "execution_count": null,
   "metadata": {},
   "outputs": [],
   "source": []
  }
 ],
 "metadata": {
  "kernelspec": {
   "display_name": "Python 3",
   "language": "python",
   "name": "python3"
  },
  "language_info": {
   "codemirror_mode": {
    "name": "ipython",
    "version": 3
   },
   "file_extension": ".py",
   "mimetype": "text/x-python",
   "name": "python",
   "nbconvert_exporter": "python",
   "pygments_lexer": "ipython3",
   "version": "3.6.3"
  }
 },
 "nbformat": 4,
 "nbformat_minor": 2
}
